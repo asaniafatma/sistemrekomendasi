{
  "nbformat": 4,
  "nbformat_minor": 0,
  "metadata": {
    "colab": {
      "provenance": []
    },
    "kernelspec": {
      "name": "python3",
      "display_name": "Python 3"
    },
    "language_info": {
      "name": "python"
    }
  },
  "cells": [
    {
      "cell_type": "markdown",
      "source": [
        "Content Based Filtering : Rekomendasi Modul Pembelajaran"
      ],
      "metadata": {
        "id": "i_7OFsLN5AtA"
      }
    },
    {
      "cell_type": "code",
      "execution_count": null,
      "metadata": {
        "id": "qGkCNnRMYaR5",
        "colab": {
          "base_uri": "https://localhost:8080/",
          "height": 206
        },
        "outputId": "b0c1f096-5e4e-40cd-ba78-57878de13d89"
      },
      "outputs": [
        {
          "output_type": "execute_result",
          "data": {
            "text/plain": [
              "                             Nama Perusahaan  \\\n",
              "0                               Asania Fatma   \n",
              "1                  PT Zona Edukasi Nusantara   \n",
              "2          PT. Sintesis Komunikasi Indonesia   \n",
              "3                  Yayasan Bakti Achmad Zaky   \n",
              "4  PT CADFEM SIMULATION TECHNOLOGY INDONESIA   \n",
              "\n",
              "                                              Alamat  \\\n",
              "0         Kedungpane RT 01 RW 05, Ngaliyan, Semarang   \n",
              "1  Graha Aktiva, Ground Floor Jalan HR Rasuna Sai...   \n",
              "2  Jl. Cisanggiri V, No 6, Petogogan, Kebayoran B...   \n",
              "3  Jalan Attahiriyah II Kompleks Warga Indah Nomo...   \n",
              "4                                    Munich, Germany   \n",
              "\n",
              "                                  Modul Pembelajaran  \n",
              "0  Jejaring Sosial Machine Learning Text Mining G...  \n",
              "1  Membaca dan Mininjau Jurnal Ilmiah Dasar-Dasar...  \n",
              "2  Logika dan Konsep Teknologi AI Metode Peneliti...  \n",
              "3  AI Foundation Python Foundation Git Collaborat...  \n",
              "4  Fluid Kinematics Simple Approximations of Flui...  "
            ],
            "text/html": [
              "\n",
              "  <div id=\"df-0d2a69c0-1148-4973-8754-87231edd55ad\">\n",
              "    <div class=\"colab-df-container\">\n",
              "      <div>\n",
              "<style scoped>\n",
              "    .dataframe tbody tr th:only-of-type {\n",
              "        vertical-align: middle;\n",
              "    }\n",
              "\n",
              "    .dataframe tbody tr th {\n",
              "        vertical-align: top;\n",
              "    }\n",
              "\n",
              "    .dataframe thead th {\n",
              "        text-align: right;\n",
              "    }\n",
              "</style>\n",
              "<table border=\"1\" class=\"dataframe\">\n",
              "  <thead>\n",
              "    <tr style=\"text-align: right;\">\n",
              "      <th></th>\n",
              "      <th>Nama Perusahaan</th>\n",
              "      <th>Alamat</th>\n",
              "      <th>Modul Pembelajaran</th>\n",
              "    </tr>\n",
              "  </thead>\n",
              "  <tbody>\n",
              "    <tr>\n",
              "      <th>0</th>\n",
              "      <td>Asania Fatma</td>\n",
              "      <td>Kedungpane RT 01 RW 05, Ngaliyan, Semarang</td>\n",
              "      <td>Jejaring Sosial Machine Learning Text Mining G...</td>\n",
              "    </tr>\n",
              "    <tr>\n",
              "      <th>1</th>\n",
              "      <td>PT Zona Edukasi Nusantara</td>\n",
              "      <td>Graha Aktiva, Ground Floor Jalan HR Rasuna Sai...</td>\n",
              "      <td>Membaca dan Mininjau Jurnal Ilmiah Dasar-Dasar...</td>\n",
              "    </tr>\n",
              "    <tr>\n",
              "      <th>2</th>\n",
              "      <td>PT. Sintesis Komunikasi Indonesia</td>\n",
              "      <td>Jl. Cisanggiri V, No 6, Petogogan, Kebayoran B...</td>\n",
              "      <td>Logika dan Konsep Teknologi AI Metode Peneliti...</td>\n",
              "    </tr>\n",
              "    <tr>\n",
              "      <th>3</th>\n",
              "      <td>Yayasan Bakti Achmad Zaky</td>\n",
              "      <td>Jalan Attahiriyah II Kompleks Warga Indah Nomo...</td>\n",
              "      <td>AI Foundation Python Foundation Git Collaborat...</td>\n",
              "    </tr>\n",
              "    <tr>\n",
              "      <th>4</th>\n",
              "      <td>PT CADFEM SIMULATION TECHNOLOGY INDONESIA</td>\n",
              "      <td>Munich, Germany</td>\n",
              "      <td>Fluid Kinematics Simple Approximations of Flui...</td>\n",
              "    </tr>\n",
              "  </tbody>\n",
              "</table>\n",
              "</div>\n",
              "      <button class=\"colab-df-convert\" onclick=\"convertToInteractive('df-0d2a69c0-1148-4973-8754-87231edd55ad')\"\n",
              "              title=\"Convert this dataframe to an interactive table.\"\n",
              "              style=\"display:none;\">\n",
              "        \n",
              "  <svg xmlns=\"http://www.w3.org/2000/svg\" height=\"24px\"viewBox=\"0 0 24 24\"\n",
              "       width=\"24px\">\n",
              "    <path d=\"M0 0h24v24H0V0z\" fill=\"none\"/>\n",
              "    <path d=\"M18.56 5.44l.94 2.06.94-2.06 2.06-.94-2.06-.94-.94-2.06-.94 2.06-2.06.94zm-11 1L8.5 8.5l.94-2.06 2.06-.94-2.06-.94L8.5 2.5l-.94 2.06-2.06.94zm10 10l.94 2.06.94-2.06 2.06-.94-2.06-.94-.94-2.06-.94 2.06-2.06.94z\"/><path d=\"M17.41 7.96l-1.37-1.37c-.4-.4-.92-.59-1.43-.59-.52 0-1.04.2-1.43.59L10.3 9.45l-7.72 7.72c-.78.78-.78 2.05 0 2.83L4 21.41c.39.39.9.59 1.41.59.51 0 1.02-.2 1.41-.59l7.78-7.78 2.81-2.81c.8-.78.8-2.07 0-2.86zM5.41 20L4 18.59l7.72-7.72 1.47 1.35L5.41 20z\"/>\n",
              "  </svg>\n",
              "      </button>\n",
              "      \n",
              "  <style>\n",
              "    .colab-df-container {\n",
              "      display:flex;\n",
              "      flex-wrap:wrap;\n",
              "      gap: 12px;\n",
              "    }\n",
              "\n",
              "    .colab-df-convert {\n",
              "      background-color: #E8F0FE;\n",
              "      border: none;\n",
              "      border-radius: 50%;\n",
              "      cursor: pointer;\n",
              "      display: none;\n",
              "      fill: #1967D2;\n",
              "      height: 32px;\n",
              "      padding: 0 0 0 0;\n",
              "      width: 32px;\n",
              "    }\n",
              "\n",
              "    .colab-df-convert:hover {\n",
              "      background-color: #E2EBFA;\n",
              "      box-shadow: 0px 1px 2px rgba(60, 64, 67, 0.3), 0px 1px 3px 1px rgba(60, 64, 67, 0.15);\n",
              "      fill: #174EA6;\n",
              "    }\n",
              "\n",
              "    [theme=dark] .colab-df-convert {\n",
              "      background-color: #3B4455;\n",
              "      fill: #D2E3FC;\n",
              "    }\n",
              "\n",
              "    [theme=dark] .colab-df-convert:hover {\n",
              "      background-color: #434B5C;\n",
              "      box-shadow: 0px 1px 3px 1px rgba(0, 0, 0, 0.15);\n",
              "      filter: drop-shadow(0px 1px 2px rgba(0, 0, 0, 0.3));\n",
              "      fill: #FFFFFF;\n",
              "    }\n",
              "  </style>\n",
              "\n",
              "      <script>\n",
              "        const buttonEl =\n",
              "          document.querySelector('#df-0d2a69c0-1148-4973-8754-87231edd55ad button.colab-df-convert');\n",
              "        buttonEl.style.display =\n",
              "          google.colab.kernel.accessAllowed ? 'block' : 'none';\n",
              "\n",
              "        async function convertToInteractive(key) {\n",
              "          const element = document.querySelector('#df-0d2a69c0-1148-4973-8754-87231edd55ad');\n",
              "          const dataTable =\n",
              "            await google.colab.kernel.invokeFunction('convertToInteractive',\n",
              "                                                     [key], {});\n",
              "          if (!dataTable) return;\n",
              "\n",
              "          const docLinkHtml = 'Like what you see? Visit the ' +\n",
              "            '<a target=\"_blank\" href=https://colab.research.google.com/notebooks/data_table.ipynb>data table notebook</a>'\n",
              "            + ' to learn more about interactive tables.';\n",
              "          element.innerHTML = '';\n",
              "          dataTable['output_type'] = 'display_data';\n",
              "          await google.colab.output.renderOutput(dataTable, element);\n",
              "          const docLink = document.createElement('div');\n",
              "          docLink.innerHTML = docLinkHtml;\n",
              "          element.appendChild(docLink);\n",
              "        }\n",
              "      </script>\n",
              "    </div>\n",
              "  </div>\n",
              "  "
            ]
          },
          "metadata": {},
          "execution_count": 29
        }
      ],
      "source": [
        "import pandas as pd\n",
        "import numpy as np\n",
        "from sklearn.metrics.pairwise import cosine_similarity\n",
        "from sklearn.feature_extraction.text import TfidfVectorizer\n",
        "from nltk.corpus import stopwords\n",
        "import re\n",
        "import random\n",
        "\n",
        "df = pd.read_csv(\"https://raw.githubusercontent.com/asaniafatma/sistemrekomendasi/main/data_stupen_magang.csv\")\n",
        "df.head()"
      ]
    },
    {
      "cell_type": "code",
      "source": [
        "df.describe()"
      ],
      "metadata": {
        "colab": {
          "base_uri": "https://localhost:8080/",
          "height": 175
        },
        "id": "uuk_HwYS1qND",
        "outputId": "7cc37ade-0dd3-42dc-9cf4-03f1f6f71f05"
      },
      "execution_count": null,
      "outputs": [
        {
          "output_type": "execute_result",
          "data": {
            "text/plain": [
              "       Nama Perusahaan                                      Alamat  \\\n",
              "count               11                                          11   \n",
              "unique              11                                          11   \n",
              "top       Asania Fatma  Kedungpane RT 01 RW 05, Ngaliyan, Semarang   \n",
              "freq                 1                                           1   \n",
              "\n",
              "                                       Modul Pembelajaran  \n",
              "count                                                  11  \n",
              "unique                                                 11  \n",
              "top     Jejaring Sosial Machine Learning Text Mining G...  \n",
              "freq                                                    1  "
            ],
            "text/html": [
              "\n",
              "  <div id=\"df-1d0fd8e2-bb7e-49ec-8bb0-5ad9d41124af\">\n",
              "    <div class=\"colab-df-container\">\n",
              "      <div>\n",
              "<style scoped>\n",
              "    .dataframe tbody tr th:only-of-type {\n",
              "        vertical-align: middle;\n",
              "    }\n",
              "\n",
              "    .dataframe tbody tr th {\n",
              "        vertical-align: top;\n",
              "    }\n",
              "\n",
              "    .dataframe thead th {\n",
              "        text-align: right;\n",
              "    }\n",
              "</style>\n",
              "<table border=\"1\" class=\"dataframe\">\n",
              "  <thead>\n",
              "    <tr style=\"text-align: right;\">\n",
              "      <th></th>\n",
              "      <th>Nama Perusahaan</th>\n",
              "      <th>Alamat</th>\n",
              "      <th>Modul Pembelajaran</th>\n",
              "    </tr>\n",
              "  </thead>\n",
              "  <tbody>\n",
              "    <tr>\n",
              "      <th>count</th>\n",
              "      <td>11</td>\n",
              "      <td>11</td>\n",
              "      <td>11</td>\n",
              "    </tr>\n",
              "    <tr>\n",
              "      <th>unique</th>\n",
              "      <td>11</td>\n",
              "      <td>11</td>\n",
              "      <td>11</td>\n",
              "    </tr>\n",
              "    <tr>\n",
              "      <th>top</th>\n",
              "      <td>Asania Fatma</td>\n",
              "      <td>Kedungpane RT 01 RW 05, Ngaliyan, Semarang</td>\n",
              "      <td>Jejaring Sosial Machine Learning Text Mining G...</td>\n",
              "    </tr>\n",
              "    <tr>\n",
              "      <th>freq</th>\n",
              "      <td>1</td>\n",
              "      <td>1</td>\n",
              "      <td>1</td>\n",
              "    </tr>\n",
              "  </tbody>\n",
              "</table>\n",
              "</div>\n",
              "      <button class=\"colab-df-convert\" onclick=\"convertToInteractive('df-1d0fd8e2-bb7e-49ec-8bb0-5ad9d41124af')\"\n",
              "              title=\"Convert this dataframe to an interactive table.\"\n",
              "              style=\"display:none;\">\n",
              "        \n",
              "  <svg xmlns=\"http://www.w3.org/2000/svg\" height=\"24px\"viewBox=\"0 0 24 24\"\n",
              "       width=\"24px\">\n",
              "    <path d=\"M0 0h24v24H0V0z\" fill=\"none\"/>\n",
              "    <path d=\"M18.56 5.44l.94 2.06.94-2.06 2.06-.94-2.06-.94-.94-2.06-.94 2.06-2.06.94zm-11 1L8.5 8.5l.94-2.06 2.06-.94-2.06-.94L8.5 2.5l-.94 2.06-2.06.94zm10 10l.94 2.06.94-2.06 2.06-.94-2.06-.94-.94-2.06-.94 2.06-2.06.94z\"/><path d=\"M17.41 7.96l-1.37-1.37c-.4-.4-.92-.59-1.43-.59-.52 0-1.04.2-1.43.59L10.3 9.45l-7.72 7.72c-.78.78-.78 2.05 0 2.83L4 21.41c.39.39.9.59 1.41.59.51 0 1.02-.2 1.41-.59l7.78-7.78 2.81-2.81c.8-.78.8-2.07 0-2.86zM5.41 20L4 18.59l7.72-7.72 1.47 1.35L5.41 20z\"/>\n",
              "  </svg>\n",
              "      </button>\n",
              "      \n",
              "  <style>\n",
              "    .colab-df-container {\n",
              "      display:flex;\n",
              "      flex-wrap:wrap;\n",
              "      gap: 12px;\n",
              "    }\n",
              "\n",
              "    .colab-df-convert {\n",
              "      background-color: #E8F0FE;\n",
              "      border: none;\n",
              "      border-radius: 50%;\n",
              "      cursor: pointer;\n",
              "      display: none;\n",
              "      fill: #1967D2;\n",
              "      height: 32px;\n",
              "      padding: 0 0 0 0;\n",
              "      width: 32px;\n",
              "    }\n",
              "\n",
              "    .colab-df-convert:hover {\n",
              "      background-color: #E2EBFA;\n",
              "      box-shadow: 0px 1px 2px rgba(60, 64, 67, 0.3), 0px 1px 3px 1px rgba(60, 64, 67, 0.15);\n",
              "      fill: #174EA6;\n",
              "    }\n",
              "\n",
              "    [theme=dark] .colab-df-convert {\n",
              "      background-color: #3B4455;\n",
              "      fill: #D2E3FC;\n",
              "    }\n",
              "\n",
              "    [theme=dark] .colab-df-convert:hover {\n",
              "      background-color: #434B5C;\n",
              "      box-shadow: 0px 1px 3px 1px rgba(0, 0, 0, 0.15);\n",
              "      filter: drop-shadow(0px 1px 2px rgba(0, 0, 0, 0.3));\n",
              "      fill: #FFFFFF;\n",
              "    }\n",
              "  </style>\n",
              "\n",
              "      <script>\n",
              "        const buttonEl =\n",
              "          document.querySelector('#df-1d0fd8e2-bb7e-49ec-8bb0-5ad9d41124af button.colab-df-convert');\n",
              "        buttonEl.style.display =\n",
              "          google.colab.kernel.accessAllowed ? 'block' : 'none';\n",
              "\n",
              "        async function convertToInteractive(key) {\n",
              "          const element = document.querySelector('#df-1d0fd8e2-bb7e-49ec-8bb0-5ad9d41124af');\n",
              "          const dataTable =\n",
              "            await google.colab.kernel.invokeFunction('convertToInteractive',\n",
              "                                                     [key], {});\n",
              "          if (!dataTable) return;\n",
              "\n",
              "          const docLinkHtml = 'Like what you see? Visit the ' +\n",
              "            '<a target=\"_blank\" href=https://colab.research.google.com/notebooks/data_table.ipynb>data table notebook</a>'\n",
              "            + ' to learn more about interactive tables.';\n",
              "          element.innerHTML = '';\n",
              "          dataTable['output_type'] = 'display_data';\n",
              "          await google.colab.output.renderOutput(dataTable, element);\n",
              "          const docLink = document.createElement('div');\n",
              "          docLink.innerHTML = docLinkHtml;\n",
              "          element.appendChild(docLink);\n",
              "        }\n",
              "      </script>\n",
              "    </div>\n",
              "  </div>\n",
              "  "
            ]
          },
          "metadata": {},
          "execution_count": 30
        }
      ]
    },
    {
      "cell_type": "markdown",
      "source": [
        "1. Ikhtisar"
      ],
      "metadata": {
        "id": "0xMRH5yD5ILU"
      }
    },
    {
      "cell_type": "code",
      "source": [
        "df.info()"
      ],
      "metadata": {
        "colab": {
          "base_uri": "https://localhost:8080/"
        },
        "id": "1Bugq1Jk1yj4",
        "outputId": "35ae5984-5c22-4f25-c389-ea725deaad59"
      },
      "execution_count": null,
      "outputs": [
        {
          "output_type": "stream",
          "name": "stdout",
          "text": [
            "<class 'pandas.core.frame.DataFrame'>\n",
            "RangeIndex: 11 entries, 0 to 10\n",
            "Data columns (total 3 columns):\n",
            " #   Column              Non-Null Count  Dtype \n",
            "---  ------              --------------  ----- \n",
            " 0   Nama Perusahaan     11 non-null     object\n",
            " 1   Alamat              11 non-null     object\n",
            " 2   Modul Pembelajaran  11 non-null     object\n",
            "dtypes: object(3)\n",
            "memory usage: 392.0+ bytes\n"
          ]
        }
      ]
    },
    {
      "cell_type": "markdown",
      "source": [
        "2. Tampilan Modul Pembelajaran (Sebelum Preprocessing)"
      ],
      "metadata": {
        "id": "nXNUtcQV5VDt"
      }
    },
    {
      "cell_type": "code",
      "source": [
        "def print_description(index):\n",
        "    example = df[df.index == index][['Modul Pembelajaran', 'Nama Perusahaan','Alamat']].values[0]\n",
        "    if len(example) > 0:\n",
        "        print(example[0])\n",
        "        print('Nama Perusahaan:', example[1])\n",
        "        print('Alamat:', example[2])"
      ],
      "metadata": {
        "id": "sIDFUFT816Jw"
      },
      "execution_count": 47,
      "outputs": []
    },
    {
      "cell_type": "code",
      "source": [
        "print_description(1)"
      ],
      "metadata": {
        "colab": {
          "base_uri": "https://localhost:8080/"
        },
        "id": "69oze_lz2UbT",
        "outputId": "c2ac2345-97d2-49fd-9bc4-af1ad0d2b197"
      },
      "execution_count": 48,
      "outputs": [
        {
          "output_type": "stream",
          "name": "stdout",
          "text": [
            "Membaca dan Mininjau Jurnal Ilmiah Dasar-Dasar Science Python Stastik Visualisasi Data dan Analisis Data Proyek Akhir Kemampuan Literasi Numerisasi dan Berpikir Saintifik\n",
            "Nama Perusahaan: PT Zona Edukasi Nusantara\n",
            "Alamat: Graha Aktiva, Ground Floor Jalan HR Rasuna Said Kav. 03 East Kuningan, Setiabudi South Jakarta, 12950 Indonesia\n"
          ]
        }
      ]
    },
    {
      "cell_type": "code",
      "source": [
        "print_description(3)"
      ],
      "metadata": {
        "colab": {
          "base_uri": "https://localhost:8080/"
        },
        "id": "JmIe4KZC2gfh",
        "outputId": "07c10fac-46ab-4884-eec5-a3682fc4b9ea"
      },
      "execution_count": null,
      "outputs": [
        {
          "output_type": "stream",
          "name": "stdout",
          "text": [
            "AI Foundation Python Foundation Git Collaboration Machine Learning dan Deep Learning Computer Vision Data Science Natural Language Processing Final Project dan Demo Day\n",
            "Nama Perusahaan: Yayasan Bakti Achmad Zaky\n",
            "Alamat: Jalan Attahiriyah II Kompleks Warga Indah Nomor 9c, Pejaten Barat, Jakarta Selatan, 12510\n"
          ]
        }
      ]
    },
    {
      "cell_type": "code",
      "source": [
        "print_description(5)"
      ],
      "metadata": {
        "colab": {
          "base_uri": "https://localhost:8080/"
        },
        "id": "7ryk4hky2ySl",
        "outputId": "66fd32fe-3d01-4a60-995d-aa8a3371af2a"
      },
      "execution_count": null,
      "outputs": [
        {
          "output_type": "stream",
          "name": "stdout",
          "text": [
            "Sustainable Start Up Sustainable Tourism Growth Mindset Overview Digital Marketing  Product Management\n",
            "Nama Perusahaan: PT. Amati Karya Indonesia\n",
            "Alamat: Jalan Raya Perserikatan No.1 Blok A Kav 261 Kelurahan Rawamangun, kecamatan Pulogadung Jakarta TImur DKI Jakarta\n"
          ]
        }
      ]
    },
    {
      "cell_type": "markdown",
      "source": [
        "3. Text Preprocessing "
      ],
      "metadata": {
        "id": "USuc06bG5aF8"
      }
    },
    {
      "cell_type": "code",
      "source": [
        "import nltk\n",
        "nltk.download('stopwords')\n",
        "clean_spcl = re.compile('[/(){}\\[\\]\\|@,;]')\n",
        "clean_symbol = re.compile('[^0-9a-z #+_]')\n",
        "#stopworda = set(stopwords.words('english'))\n",
        "\n",
        "def clean_text(text):\n",
        "    \"\"\"\n",
        "        text: a string\n",
        "        \n",
        "        return: modified initial string\n",
        "    \"\"\"\n",
        "    text = text.lower() # lowercase text\n",
        "    text = clean_spcl.sub(' ', text)\n",
        "    text = clean_symbol.sub('', text)\n",
        "    #text = ' '.join(word for word in text.split() if word not in stopworda) # hapus stopword dari kolom deskripsi\n",
        "    return text\n",
        "    \n",
        "df['modul_pembelajaran_clean'] = df['Modul Pembelajaran'].apply(clean_text)"
      ],
      "metadata": {
        "colab": {
          "base_uri": "https://localhost:8080/"
        },
        "id": "P3gbkht-23iK",
        "outputId": "f92b138e-4410-4f80-e64a-13e2dda3c3aa"
      },
      "execution_count": null,
      "outputs": [
        {
          "output_type": "stream",
          "name": "stderr",
          "text": [
            "[nltk_data] Downloading package stopwords to /root/nltk_data...\n",
            "[nltk_data]   Package stopwords is already up-to-date!\n"
          ]
        }
      ]
    },
    {
      "cell_type": "code",
      "source": [
        "df.head()"
      ],
      "metadata": {
        "colab": {
          "base_uri": "https://localhost:8080/",
          "height": 337
        },
        "id": "xNFDV7pp3F7I",
        "outputId": "aa23e955-6560-466b-b02b-dc2c80609ca2"
      },
      "execution_count": null,
      "outputs": [
        {
          "output_type": "execute_result",
          "data": {
            "text/plain": [
              "                             Nama Perusahaan  \\\n",
              "0                               Asania Fatma   \n",
              "1                  PT Zona Edukasi Nusantara   \n",
              "2          PT. Sintesis Komunikasi Indonesia   \n",
              "3                  Yayasan Bakti Achmad Zaky   \n",
              "4  PT CADFEM SIMULATION TECHNOLOGY INDONESIA   \n",
              "\n",
              "                                              Alamat  \\\n",
              "0         Kedungpane RT 01 RW 05, Ngaliyan, Semarang   \n",
              "1  Graha Aktiva, Ground Floor Jalan HR Rasuna Sai...   \n",
              "2  Jl. Cisanggiri V, No 6, Petogogan, Kebayoran B...   \n",
              "3  Jalan Attahiriyah II Kompleks Warga Indah Nomo...   \n",
              "4                                    Munich, Germany   \n",
              "\n",
              "                                  Modul Pembelajaran  \\\n",
              "0  Jejaring Sosial Machine Learning Text Mining G...   \n",
              "1  Membaca dan Mininjau Jurnal Ilmiah Dasar-Dasar...   \n",
              "2  Logika dan Konsep Teknologi AI Metode Peneliti...   \n",
              "3  AI Foundation Python Foundation Git Collaborat...   \n",
              "4  Fluid Kinematics Simple Approximations of Flui...   \n",
              "\n",
              "                            modul_pembelajaran_clean  \n",
              "0  jejaring sosial machine learning text mining g...  \n",
              "1  membaca dan mininjau jurnal ilmiah dasardasar ...  \n",
              "2  logika dan konsep teknologi ai metode peneliti...  \n",
              "3  ai foundation python foundation git collaborat...  \n",
              "4  fluid kinematics simple approximations of flui...  "
            ],
            "text/html": [
              "\n",
              "  <div id=\"df-8e177b21-4ad2-4576-95ec-f9d0d8d40298\">\n",
              "    <div class=\"colab-df-container\">\n",
              "      <div>\n",
              "<style scoped>\n",
              "    .dataframe tbody tr th:only-of-type {\n",
              "        vertical-align: middle;\n",
              "    }\n",
              "\n",
              "    .dataframe tbody tr th {\n",
              "        vertical-align: top;\n",
              "    }\n",
              "\n",
              "    .dataframe thead th {\n",
              "        text-align: right;\n",
              "    }\n",
              "</style>\n",
              "<table border=\"1\" class=\"dataframe\">\n",
              "  <thead>\n",
              "    <tr style=\"text-align: right;\">\n",
              "      <th></th>\n",
              "      <th>Nama Perusahaan</th>\n",
              "      <th>Alamat</th>\n",
              "      <th>Modul Pembelajaran</th>\n",
              "      <th>modul_pembelajaran_clean</th>\n",
              "    </tr>\n",
              "  </thead>\n",
              "  <tbody>\n",
              "    <tr>\n",
              "      <th>0</th>\n",
              "      <td>Asania Fatma</td>\n",
              "      <td>Kedungpane RT 01 RW 05, Ngaliyan, Semarang</td>\n",
              "      <td>Jejaring Sosial Machine Learning Text Mining G...</td>\n",
              "      <td>jejaring sosial machine learning text mining g...</td>\n",
              "    </tr>\n",
              "    <tr>\n",
              "      <th>1</th>\n",
              "      <td>PT Zona Edukasi Nusantara</td>\n",
              "      <td>Graha Aktiva, Ground Floor Jalan HR Rasuna Sai...</td>\n",
              "      <td>Membaca dan Mininjau Jurnal Ilmiah Dasar-Dasar...</td>\n",
              "      <td>membaca dan mininjau jurnal ilmiah dasardasar ...</td>\n",
              "    </tr>\n",
              "    <tr>\n",
              "      <th>2</th>\n",
              "      <td>PT. Sintesis Komunikasi Indonesia</td>\n",
              "      <td>Jl. Cisanggiri V, No 6, Petogogan, Kebayoran B...</td>\n",
              "      <td>Logika dan Konsep Teknologi AI Metode Peneliti...</td>\n",
              "      <td>logika dan konsep teknologi ai metode peneliti...</td>\n",
              "    </tr>\n",
              "    <tr>\n",
              "      <th>3</th>\n",
              "      <td>Yayasan Bakti Achmad Zaky</td>\n",
              "      <td>Jalan Attahiriyah II Kompleks Warga Indah Nomo...</td>\n",
              "      <td>AI Foundation Python Foundation Git Collaborat...</td>\n",
              "      <td>ai foundation python foundation git collaborat...</td>\n",
              "    </tr>\n",
              "    <tr>\n",
              "      <th>4</th>\n",
              "      <td>PT CADFEM SIMULATION TECHNOLOGY INDONESIA</td>\n",
              "      <td>Munich, Germany</td>\n",
              "      <td>Fluid Kinematics Simple Approximations of Flui...</td>\n",
              "      <td>fluid kinematics simple approximations of flui...</td>\n",
              "    </tr>\n",
              "  </tbody>\n",
              "</table>\n",
              "</div>\n",
              "      <button class=\"colab-df-convert\" onclick=\"convertToInteractive('df-8e177b21-4ad2-4576-95ec-f9d0d8d40298')\"\n",
              "              title=\"Convert this dataframe to an interactive table.\"\n",
              "              style=\"display:none;\">\n",
              "        \n",
              "  <svg xmlns=\"http://www.w3.org/2000/svg\" height=\"24px\"viewBox=\"0 0 24 24\"\n",
              "       width=\"24px\">\n",
              "    <path d=\"M0 0h24v24H0V0z\" fill=\"none\"/>\n",
              "    <path d=\"M18.56 5.44l.94 2.06.94-2.06 2.06-.94-2.06-.94-.94-2.06-.94 2.06-2.06.94zm-11 1L8.5 8.5l.94-2.06 2.06-.94-2.06-.94L8.5 2.5l-.94 2.06-2.06.94zm10 10l.94 2.06.94-2.06 2.06-.94-2.06-.94-.94-2.06-.94 2.06-2.06.94z\"/><path d=\"M17.41 7.96l-1.37-1.37c-.4-.4-.92-.59-1.43-.59-.52 0-1.04.2-1.43.59L10.3 9.45l-7.72 7.72c-.78.78-.78 2.05 0 2.83L4 21.41c.39.39.9.59 1.41.59.51 0 1.02-.2 1.41-.59l7.78-7.78 2.81-2.81c.8-.78.8-2.07 0-2.86zM5.41 20L4 18.59l7.72-7.72 1.47 1.35L5.41 20z\"/>\n",
              "  </svg>\n",
              "      </button>\n",
              "      \n",
              "  <style>\n",
              "    .colab-df-container {\n",
              "      display:flex;\n",
              "      flex-wrap:wrap;\n",
              "      gap: 12px;\n",
              "    }\n",
              "\n",
              "    .colab-df-convert {\n",
              "      background-color: #E8F0FE;\n",
              "      border: none;\n",
              "      border-radius: 50%;\n",
              "      cursor: pointer;\n",
              "      display: none;\n",
              "      fill: #1967D2;\n",
              "      height: 32px;\n",
              "      padding: 0 0 0 0;\n",
              "      width: 32px;\n",
              "    }\n",
              "\n",
              "    .colab-df-convert:hover {\n",
              "      background-color: #E2EBFA;\n",
              "      box-shadow: 0px 1px 2px rgba(60, 64, 67, 0.3), 0px 1px 3px 1px rgba(60, 64, 67, 0.15);\n",
              "      fill: #174EA6;\n",
              "    }\n",
              "\n",
              "    [theme=dark] .colab-df-convert {\n",
              "      background-color: #3B4455;\n",
              "      fill: #D2E3FC;\n",
              "    }\n",
              "\n",
              "    [theme=dark] .colab-df-convert:hover {\n",
              "      background-color: #434B5C;\n",
              "      box-shadow: 0px 1px 3px 1px rgba(0, 0, 0, 0.15);\n",
              "      filter: drop-shadow(0px 1px 2px rgba(0, 0, 0, 0.3));\n",
              "      fill: #FFFFFF;\n",
              "    }\n",
              "  </style>\n",
              "\n",
              "      <script>\n",
              "        const buttonEl =\n",
              "          document.querySelector('#df-8e177b21-4ad2-4576-95ec-f9d0d8d40298 button.colab-df-convert');\n",
              "        buttonEl.style.display =\n",
              "          google.colab.kernel.accessAllowed ? 'block' : 'none';\n",
              "\n",
              "        async function convertToInteractive(key) {\n",
              "          const element = document.querySelector('#df-8e177b21-4ad2-4576-95ec-f9d0d8d40298');\n",
              "          const dataTable =\n",
              "            await google.colab.kernel.invokeFunction('convertToInteractive',\n",
              "                                                     [key], {});\n",
              "          if (!dataTable) return;\n",
              "\n",
              "          const docLinkHtml = 'Like what you see? Visit the ' +\n",
              "            '<a target=\"_blank\" href=https://colab.research.google.com/notebooks/data_table.ipynb>data table notebook</a>'\n",
              "            + ' to learn more about interactive tables.';\n",
              "          element.innerHTML = '';\n",
              "          dataTable['output_type'] = 'display_data';\n",
              "          await google.colab.output.renderOutput(dataTable, element);\n",
              "          const docLink = document.createElement('div');\n",
              "          docLink.innerHTML = docLinkHtml;\n",
              "          element.appendChild(docLink);\n",
              "        }\n",
              "      </script>\n",
              "    </div>\n",
              "  </div>\n",
              "  "
            ]
          },
          "metadata": {},
          "execution_count": 37
        }
      ]
    },
    {
      "cell_type": "markdown",
      "source": [
        "4. Tampilan Modul Pembelajaran (Setelah Preprocessing)"
      ],
      "metadata": {
        "id": "GprcIkQr57Th"
      }
    },
    {
      "cell_type": "code",
      "source": [
        "def print_description_clean(index):\n",
        "    example = df[df.index == index][['modul_pembelajaran_clean', 'Nama Perusahaan','Alamat']].values[0]\n",
        "    if len(example) > 0:\n",
        "        print(example[0])\n",
        "        print('Nama Perusahaan:', example[1])\n",
        "        print('Alamat:', example[2])"
      ],
      "metadata": {
        "id": "mhFGDehf3LUJ"
      },
      "execution_count": 45,
      "outputs": []
    },
    {
      "cell_type": "code",
      "source": [
        "print_description_clean(1)"
      ],
      "metadata": {
        "colab": {
          "base_uri": "https://localhost:8080/"
        },
        "id": "TGArc_WG3cBr",
        "outputId": "9ce17c51-287d-4f5f-fa78-ce9c5787d5a1"
      },
      "execution_count": 46,
      "outputs": [
        {
          "output_type": "stream",
          "name": "stdout",
          "text": [
            "membaca dan mininjau jurnal ilmiah dasardasar science python stastik visualisasi data dan analisis data proyek akhir kemampuan literasi numerisasi dan berpikir saintifik\n",
            "Nama Perusahaan: PT Zona Edukasi Nusantara\n",
            "Alamat: Graha Aktiva, Ground Floor Jalan HR Rasuna Said Kav. 03 East Kuningan, Setiabudi South Jakarta, 12950 Indonesia\n"
          ]
        }
      ]
    },
    {
      "cell_type": "code",
      "source": [
        "print_description_clean(3)"
      ],
      "metadata": {
        "colab": {
          "base_uri": "https://localhost:8080/"
        },
        "id": "eZa3hoMO6ibc",
        "outputId": "ccbd1433-d861-41c9-aa70-ccedeb317701"
      },
      "execution_count": null,
      "outputs": [
        {
          "output_type": "stream",
          "name": "stdout",
          "text": [
            "ai foundation python foundation git collaboration machine learning dan deep learning computer vision data science natural language processing final project dan demo day\n",
            "Nama Perusahaan: Yayasan Bakti Achmad Zaky\n",
            "Alamat: Jalan Attahiriyah II Kompleks Warga Indah Nomor 9c, Pejaten Barat, Jakarta Selatan, 12510\n"
          ]
        }
      ]
    },
    {
      "cell_type": "code",
      "source": [
        "print_description_clean(5)"
      ],
      "metadata": {
        "colab": {
          "base_uri": "https://localhost:8080/"
        },
        "id": "wLkNhot63kQ_",
        "outputId": "22c35e2e-e5b4-496e-82c6-7c0c8c2eae0d"
      },
      "execution_count": null,
      "outputs": [
        {
          "output_type": "stream",
          "name": "stdout",
          "text": [
            "sustainable start up sustainable tourism growth mindset overview digital marketing  product management\n",
            "Nama Perusahaan: PT. Amati Karya Indonesia\n",
            "Alamat: Jalan Raya Perserikatan No.1 Blok A Kav 261 Kelurahan Rawamangun, kecamatan Pulogadung Jakarta TImur DKI Jakarta\n"
          ]
        }
      ]
    },
    {
      "cell_type": "markdown",
      "source": [
        "5. TF-IDF & Cosine Similarity"
      ],
      "metadata": {
        "id": "3sLn30ym6E9e"
      }
    },
    {
      "cell_type": "code",
      "source": [
        "df.set_index('Nama Perusahaan', inplace=True)\n",
        "tf = TfidfVectorizer(analyzer='word', ngram_range=(1, 3), min_df=0, stop_words='english')\n",
        "tfidf_matrix = tf.fit_transform(df['modul_pembelajaran_clean'])\n",
        "cos_sim = cosine_similarity(tfidf_matrix, tfidf_matrix)\n",
        "cos_sim"
      ],
      "metadata": {
        "colab": {
          "base_uri": "https://localhost:8080/"
        },
        "id": "8-MYo5gJ3ojt",
        "outputId": "ea624d67-aa97-4d7f-fb7c-0f819d9c8417"
      },
      "execution_count": null,
      "outputs": [
        {
          "output_type": "execute_result",
          "data": {
            "text/plain": [
              "array([[1.        , 0.        , 0.        , 0.07076759, 0.        ,\n",
              "        0.        , 0.        , 0.        , 0.        , 0.        ,\n",
              "        0.        ],\n",
              "       [0.        , 1.        , 0.07745228, 0.07216037, 0.        ,\n",
              "        0.        , 0.02560626, 0.02160963, 0.        , 0.00693419,\n",
              "        0.02231839],\n",
              "       [0.        , 0.07745228, 1.        , 0.05729693, 0.        ,\n",
              "        0.        , 0.01786142, 0.0150736 , 0.10370972, 0.        ,\n",
              "        0.01556799],\n",
              "       [0.07076759, 0.07216037, 0.05729693, 1.        , 0.        ,\n",
              "        0.        , 0.01664104, 0.03092572, 0.02250752, 0.        ,\n",
              "        0.0406579 ],\n",
              "       [0.        , 0.        , 0.        , 0.        , 1.        ,\n",
              "        0.        , 0.        , 0.        , 0.        , 0.        ,\n",
              "        0.        ],\n",
              "       [0.        , 0.        , 0.        , 0.        , 0.        ,\n",
              "        1.        , 0.        , 0.        , 0.        , 0.        ,\n",
              "        0.01248835],\n",
              "       [0.        , 0.02560626, 0.01786142, 0.01664104, 0.        ,\n",
              "        0.        , 1.        , 0.02756703, 0.        , 0.        ,\n",
              "        0.01292907],\n",
              "       [0.        , 0.02160963, 0.0150736 , 0.03092572, 0.        ,\n",
              "        0.        , 0.02756703, 1.        , 0.        , 0.        ,\n",
              "        0.0109111 ],\n",
              "       [0.        , 0.        , 0.10370972, 0.02250752, 0.        ,\n",
              "        0.        , 0.        , 0.        , 1.        , 0.        ,\n",
              "        0.        ],\n",
              "       [0.        , 0.00693419, 0.        , 0.        , 0.        ,\n",
              "        0.        , 0.        , 0.        , 0.        , 1.        ,\n",
              "        0.0210072 ],\n",
              "       [0.        , 0.02231839, 0.01556799, 0.0406579 , 0.        ,\n",
              "        0.01248835, 0.01292907, 0.0109111 , 0.        , 0.0210072 ,\n",
              "        1.        ]])"
            ]
          },
          "metadata": {},
          "execution_count": 19
        }
      ]
    },
    {
      "cell_type": "code",
      "source": [
        "indices = pd.Series(df.index)\n",
        "indices[:50]"
      ],
      "metadata": {
        "colab": {
          "base_uri": "https://localhost:8080/"
        },
        "id": "En7szrxb32nq",
        "outputId": "1b3a17ad-c06a-47ff-8a54-4ae816c3f37f"
      },
      "execution_count": null,
      "outputs": [
        {
          "output_type": "execute_result",
          "data": {
            "text/plain": [
              "0                                  Asania Fatma\n",
              "1                     PT Zona Edukasi Nusantara\n",
              "2             PT. Sintesis Komunikasi Indonesia\n",
              "3                     Yayasan Bakti Achmad Zaky\n",
              "4     PT CADFEM SIMULATION TECHNOLOGY INDONESIA\n",
              "5                     PT. Amati Karya Indonesia\n",
              "6                       PT Dharma Polimetal Tbk\n",
              "7                       PT Global Tiket Network\n",
              "8                    PT Widya Inovasi Indonesia\n",
              "9                      PT Bukit Vista Nusantara\n",
              "10                       PT Solusi Tiga Selaras\n",
              "Name: Nama Perusahaan, dtype: object"
            ]
          },
          "metadata": {},
          "execution_count": 20
        }
      ]
    },
    {
      "cell_type": "markdown",
      "source": [
        "6. Modelling"
      ],
      "metadata": {
        "id": "RBqNpYVK6Qao"
      }
    },
    {
      "cell_type": "code",
      "source": [
        "def recommendations(name, cos_sim = cos_sim):\n",
        "    \n",
        "    recommended_modul = []\n",
        "    \n",
        "    # Mengambil nama modul berdasarkan variabel indicies\n",
        "    idx = indices[indices == name].index[0]\n",
        "\n",
        "    # Membuat series berdasarkan skor kesamaan\n",
        "    score_series = pd.Series(cos_sim[idx]).sort_values(ascending = False)\n",
        "\n",
        "    # mengambil index dan dibuat 3 baris rekomendasi terbaik\n",
        "    top_10_indexes = list(score_series.iloc[1:4].index)\n",
        "    \n",
        "    for i in top_10_indexes:\n",
        "        recommended_modul.append(list(df.index)[i])\n",
        "        \n",
        "    return recommended_modul"
      ],
      "metadata": {
        "id": "V4n5A8Wi35Ez"
      },
      "execution_count": null,
      "outputs": []
    },
    {
      "cell_type": "markdown",
      "source": [
        "7. Prediksi"
      ],
      "metadata": {
        "id": "MW8P9aLB6VeV"
      }
    },
    {
      "cell_type": "code",
      "source": [
        "recommendations('Asania Fatma')"
      ],
      "metadata": {
        "colab": {
          "base_uri": "https://localhost:8080/"
        },
        "id": "8bbzLEpq3-n2",
        "outputId": "b6dd66de-9d63-4eb3-fd0c-e4e186b49f88"
      },
      "execution_count": null,
      "outputs": [
        {
          "output_type": "execute_result",
          "data": {
            "text/plain": [
              "['Yayasan Bakti Achmad Zaky',\n",
              " 'PT Zona Edukasi Nusantara',\n",
              " 'PT. Sintesis Komunikasi Indonesia']"
            ]
          },
          "metadata": {},
          "execution_count": 23
        }
      ]
    },
    {
      "cell_type": "code",
      "source": [
        "recommendations('PT Zona Edukasi Nusantara')"
      ],
      "metadata": {
        "colab": {
          "base_uri": "https://localhost:8080/"
        },
        "id": "GMHYoHRd4P58",
        "outputId": "e6845433-5468-4acd-c165-4bed0f568898"
      },
      "execution_count": null,
      "outputs": [
        {
          "output_type": "execute_result",
          "data": {
            "text/plain": [
              "['PT. Sintesis Komunikasi Indonesia',\n",
              " 'Yayasan Bakti Achmad Zaky',\n",
              " 'PT Dharma Polimetal Tbk']"
            ]
          },
          "metadata": {},
          "execution_count": 24
        }
      ]
    },
    {
      "cell_type": "code",
      "source": [
        "recommendations('PT Bukit Vista Nusantara')"
      ],
      "metadata": {
        "colab": {
          "base_uri": "https://localhost:8080/"
        },
        "id": "le_eCuRG4hR2",
        "outputId": "f56835ea-9a40-4345-b053-2bd833aeb07f"
      },
      "execution_count": null,
      "outputs": [
        {
          "output_type": "execute_result",
          "data": {
            "text/plain": [
              "['PT Solusi Tiga Selaras', 'PT Zona Edukasi Nusantara', 'Asania Fatma']"
            ]
          },
          "metadata": {},
          "execution_count": 26
        }
      ]
    }
  ]
}